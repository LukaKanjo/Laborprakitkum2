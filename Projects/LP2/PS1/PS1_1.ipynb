{
 "cells": [
  {
   "cell_type": "code",
   "execution_count": 66,
   "id": "1d5d57a2",
   "metadata": {},
   "outputs": [],
   "source": [
    "import numpy as np\n",
    "from uncertainties import ufloat\n",
    "from uncertainties.umath import tan\n",
    "from math import pi"
   ]
  },
  {
   "cell_type": "code",
   "execution_count": 67,
   "id": "819372a1",
   "metadata": {},
   "outputs": [
    {
     "name": "stdout",
     "output_type": "stream",
     "text": [
      "Mittelwert Drahtdicke = 0.99200+/-0.00122 [mm]\n",
      "Mittelwert Querschnitt = 3.09155+/-0.00764 [mm]\n"
     ]
    }
   ],
   "source": [
    "#Spannungsdehnungs Kurve von Aluminium\n",
    "\n",
    "Draht_Dicke = [1.99,1.98,1.98,1.99,1.98]\n",
    "\n",
    "D_mittelwert = np.mean(Draht_Dicke)/2\n",
    "Standardabweichung = np.std(Draht_Dicke, ddof=1) / np.sqrt(len(Draht_Dicke))/2\n",
    "\n",
    " \n",
    "Draht_querschnit = []\n",
    "for i in range(len(Draht_Dicke)):\n",
    "    D = Draht_Dicke[i]\n",
    "    q = np.square(D / 2)*pi\n",
    "    Draht_querschnit.append(q)\n",
    "\n",
    "q_mittelwert = np.mean(Draht_querschnit)\n",
    "Standardabweichung_q = np.std(Draht_querschnit, ddof=1) / np.sqrt(len(Draht_querschnit))\n",
    "\n",
    "\n",
    "print(f\"Mittelwert Drahtdicke = {D_mittelwert:.5f}+/-{Standardabweichung:.5f} [mm]\")\n",
    "print(f\"Mittelwert Querschnitt = {q_mittelwert:.5f}+/-{Standardabweichung_q:.5f} [mm]\")\n"
   ]
  },
  {
   "cell_type": "code",
   "execution_count": 74,
   "id": "c94f1cf7",
   "metadata": {},
   "outputs": [
    {
     "name": "stdout",
     "output_type": "stream",
     "text": [
      "Masse m = 0.3730+/-0.0003 [Kg]\n",
      "Radius r = 0.0015+/-0.0000 [m]\n",
      "Länge L = 0.6395+/-0.0175 [m]\n",
      "Schubmodul G = 26.4642+/-2.1204 [GPa]\n",
      "Schwingungsdauer T_1 = 1.2510+/-0.0023 [s]\n",
      "Schwingungsdauer T_2 = 2.0311+/-0.0026 [s]\n"
     ]
    }
   ],
   "source": [
    "# Schubspannung von Aluminium #2 massen\n",
    "Draht_Durchmesser = [2.98,2.99,2.98,2.99,2.98]\n",
    "\n",
    "Durch_mittelwert = np.mean(Draht_Durchmesser)\n",
    "D_Standardabweichung = np.std(Draht_Durchmesser, ddof=1) / np.sqrt(len(Draht_Durchmesser))\n",
    "\n",
    "l_1=622\n",
    "l_2=657\n",
    "L = ufloat((l_1+l_2)/(1000*2), (l_2-l_1)/(1000*2))   \n",
    "m_1=373.3\n",
    "m_2=372.8                        \n",
    "m = ufloat((m_1+m_2)/(1000*2), (m_1-m_2)/(1000*2))\n",
    "#m = (m_1+m_2)/(2*10**3)\n",
    "print(f\"Masse m = {m:.4f} [Kg]\")                                        \n",
    "r = ufloat(Durch_mittelwert/2000, D_Standardabweichung/2000)  \n",
    "print(f\"Radius r = {r:.4f} [m]\")\n",
    "print(f\"Länge L = {L:.4f} [m]\") \n",
    "l_1 = ufloat(90/1000, 5/1000)                             \n",
    "l_2 = ufloat(190/1000, 5/1000)                              \n",
    "\n",
    "\n",
    "T_1_messwerte = [12.61, 12.54, 12.59, 12.45, 12.54, 12.43, 12.56, 12.42, 12.53, 12.43]\n",
    "T_2_messwerte = [20.39, 20.29, 20.37, 20.17, 20.29, 20.31, 20.45, 20.21, 20.32, 20.31]\n",
    "\n",
    "\n",
    "T_1_mean = np.mean(T_1_messwerte)            \n",
    "T_1_std = np.std(T_1_messwerte, ddof=1)/ np.sqrt(len(T_1_messwerte))    \n",
    "\n",
    "T_2_mean = np.mean(T_2_messwerte)          \n",
    "T_2_std = np.std(T_2_messwerte, ddof=1) / np.sqrt(len(T_2_messwerte))\n",
    "\n",
    "\n",
    "T_1 = ufloat(T_1_mean, T_1_std)/10\n",
    "T_2 = ufloat(T_2_mean, T_2_std)/10\n",
    "\n",
    "# Schubmodul G berechnen    \n",
    "G_1 = (16 * pi * L * m / (r**4) * ((l_1**2 - l_2**2) / (T_1**2 - T_2**2))) / 10**9  #GPa\n",
    "\n",
    "# Ausgabe\n",
    "print(f\"Schubmodul G = {G_1:.4f} [GPa]\")\n",
    "print(f\"Schwingungsdauer T_1 = {T_1:.4f} [s]\")\n",
    "print(f\"Schwingungsdauer T_2 = {T_2:.4f} [s]\")"
   ]
  },
  {
   "cell_type": "code",
   "execution_count": 69,
   "id": "e2b4ee4e",
   "metadata": {},
   "outputs": [
    {
     "name": "stdout",
     "output_type": "stream",
     "text": [
      "Masse m = 0.2489+/-0.0003 [Kg]\n",
      "Radius r = 0.0015+/-0.0000 [m]\n",
      "Länge L = 0.6395+/-0.0175 [m]\n",
      "Schubmodul G = 24.0809+/-1.9503 [GPa]\n"
     ]
    }
   ],
   "source": [
    "# Schubspannung von Aluminium #1 massen\n",
    "\n",
    "Draht_Durchmesser = [2.98,2.99,2.98,2.99,2.98]\n",
    "\n",
    "Durch_mittelwert = np.mean(Draht_Durchmesser)\n",
    "D_Standardabweichung = np.std(Draht_Durchmesser, ddof=1) / np.sqrt(len(Draht_Durchmesser))\n",
    "\n",
    "l_1=622\n",
    "l_2=657\n",
    "L = ufloat((l_1+l_2)/(1000*2), (l_2-l_1)/(1000*2))        \n",
    "m_1=248.6\n",
    "m_2=249.2                               \n",
    "m = ufloat((m_1+m_2)/(1000*2), (m_2-m_1)/(1000*2)) \n",
    "print(f\"Masse m = {m:.4f} [Kg]\")                                                \n",
    "r = ufloat(Durch_mittelwert/2000, D_Standardabweichung/2000)  \n",
    "print(f\"Radius r = {r:.4f} [m]\")\n",
    "print(f\"Länge L = {L:.4f} [m]\")\n",
    "l_1 = ufloat(90/1000, 5/1000)                           \n",
    "l_2 = ufloat(190/1000, 5/1000)                            \n",
    "\n",
    "\n",
    "T_1_messwerte = [11.39, 11.37, 11.43, 11.36, 11.37, 11.43, 11.45, 11.45, 11.46, 11.29]\n",
    "T_2_messwerte = [17.45, 17.59, 17.70, 17.72, 18.04, 17.80, 18.06, 17.89, 18.04, 17.95]\n",
    "\n",
    "\n",
    "T_1_mean = np.mean(T_1_messwerte)           \n",
    "T_1_std = np.std(T_1_messwerte, ddof=1)/ np.sqrt(len(T_1_messwerte))  \n",
    "\n",
    "T_2_mean = np.mean(T_2_messwerte)           \n",
    "T_2_std = np.std(T_2_messwerte, ddof=1) / np.sqrt(len(T_2_messwerte))   \n",
    "\n",
    "\n",
    "T_1 = ufloat(T_1_mean, T_1_std)/10\n",
    "T_2 = ufloat(T_2_mean, T_2_std)/10\n",
    "\n",
    "# Schubmodul G berechnen\n",
    "G_0 = (16 * pi * L * m / (r**4) * ((l_1**2 - l_2**2) / (T_1**2 - T_2**2))) / 10**9  #GPa\n",
    "\n",
    "# Ausgabe\n",
    "print(f\"Schubmodul G = {G_0:.4f} [GPa]\")"
   ]
  },
  {
   "cell_type": "code",
   "execution_count": 70,
   "id": "d3397d18",
   "metadata": {},
   "outputs": [
    {
     "name": "stdout",
     "output_type": "stream",
     "text": [
      "Schubmodul G = 25.2725+/-1.4405 [GPa]\n"
     ]
    }
   ],
   "source": [
    "# Schubmodule addiert\n",
    "\n",
    "G = (G_0+G_1)/2\n",
    "print(f\"Schubmodul G = {G:.4f} [GPa]\")"
   ]
  },
  {
   "cell_type": "code",
   "execution_count": 71,
   "id": "22ce9434",
   "metadata": {},
   "outputs": [
    {
     "name": "stdout",
     "output_type": "stream",
     "text": [
      "Poissonzahl v_0 = 0.4831+/-0.1205\n",
      "Poissonzahl v_1 = 0.3496+/-0.1084\n",
      "Poissonzahl v = 0.4132+/-0.0810\n"
     ]
    }
   ],
   "source": [
    "#Poissonzahl\n",
    "\n",
    "E = ufloat(71.431 , 0.430)\n",
    "v_1 = (E / (2*G_1))-1\n",
    "v_0 = (E / (2*G_0))-1\n",
    "v = (E / (2*G))-1\n",
    "\n",
    "print(f\"Poissonzahl v_0 = {v_0:.4f}\")\n",
    "print(f\"Poissonzahl v_1 = {v_1:.4f}\")\n",
    "print(f\"Poissonzahl v = {v:.4f}\")"
   ]
  }
 ],
 "metadata": {
  "kernelspec": {
   "display_name": "myenv",
   "language": "python",
   "name": "python3"
  },
  "language_info": {
   "codemirror_mode": {
    "name": "ipython",
    "version": 3
   },
   "file_extension": ".py",
   "mimetype": "text/x-python",
   "name": "python",
   "nbconvert_exporter": "python",
   "pygments_lexer": "ipython3",
   "version": "3.10.12"
  }
 },
 "nbformat": 4,
 "nbformat_minor": 5
}
