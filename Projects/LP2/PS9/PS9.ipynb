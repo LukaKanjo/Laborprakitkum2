{
 "cells": [
  {
   "cell_type": "code",
   "execution_count": 43,
   "id": "805ce49e",
   "metadata": {},
   "outputs": [],
   "source": [
    "import numpy as np\n",
    "from uncertainties import ufloat\n",
    "from uncertainties.umath import *\n",
    "from uncertainties import unumpy as unp\n",
    "import matplotlib.pyplot as plt\n",
    "import pandas as pd\n",
    "from scipy.stats import linregress\n",
    "from scipy.signal import find_peaks\n",
    "from uncertainties.umath import sin\n",
    "from IPython.display import display, Math\n",
    "\n",
    "def latex(latex_str):\n",
    "    display({'text/latex': latex_str}, raw=True)\n",
    "\n",
    "e = 1.602*1e-19\n",
    "h = 6.626*1e-34\n",
    "m_e = 9.109e-31 \n",
    "c = 299792458  #muss noch genaueren wert eintragen"
   ]
  },
  {
   "cell_type": "code",
   "execution_count": null,
   "id": "01365fc2",
   "metadata": {},
   "outputs": [
    {
     "data": {
      "image/png": "[encoded data removed]",
      "text/plain": [
       "<Figure size 700x500 with 1 Axes>"
      ]
     },
     "metadata": {},
     "output_type": "display_data"
    },
    {
     "data": {
      "text/latex": [
       "$\\displaystyle U_{1} = 17.917+/-3.354~\\mathrm{V}$"
      ],
      "text/plain": [
       "<IPython.core.display.Math object>"
      ]
     },
     "metadata": {},
     "output_type": "display_data"
    },
    {
     "data": {
      "text/latex": [
       "$\\displaystyle U_{2} = 35.340+/-3.288~\\mathrm{V}$"
      ],
      "text/plain": [
       "<IPython.core.display.Math object>"
      ]
     },
     "metadata": {},
     "output_type": "display_data"
    },
    {
     "data": {
      "text/latex": [
       "$\\displaystyle U_{3} = 55.217+/-3.234~\\mathrm{V}$"
      ],
      "text/plain": [
       "<IPython.core.display.Math object>"
      ]
     },
     "metadata": {},
     "output_type": "display_data"
    },
    {
     "name": "stdout",
     "output_type": "stream",
     "text": [
      "\n"
     ]
    },
    {
     "data": {
      "text/latex": [
       "$\\displaystyle \\Delta U_{1} = 17.423+/-4.696~\\mathrm{V}$"
      ],
      "text/plain": [
       "<IPython.core.display.Math object>"
      ]
     },
     "metadata": {},
     "output_type": "display_data"
    },
    {
     "data": {
      "text/latex": [
       "$\\displaystyle \\Delta U_{2} = 19.877+/-4.612~\\mathrm{V}$"
      ],
      "text/plain": [
       "<IPython.core.display.Math object>"
      ]
     },
     "metadata": {},
     "output_type": "display_data"
    },
    {
     "name": "stdout",
     "output_type": "stream",
     "text": [
      "\n"
     ]
    },
    {
     "data": {
      "text/latex": [
       "$\\displaystyle \\langle \\Delta U \\rangle = 18.650+/-1.227~\\mathrm{V}$"
      ],
      "text/plain": [
       "<IPython.core.display.Math object>"
      ]
     },
     "metadata": {},
     "output_type": "display_data"
    },
    {
     "name": "stdout",
     "output_type": "stream",
     "text": [
      "\n"
     ]
    },
    {
     "data": {
      "text/latex": [
       "$\\displaystyle \\Delta E = 18.650+/-1.227~\\mathrm{eV}$"
      ],
      "text/plain": [
       "<IPython.core.display.Math object>"
      ]
     },
     "metadata": {},
     "output_type": "display_data"
    }
   ],
   "source": [
    "#Automatische Franck-Herz-Kurve\n",
    "\n",
    "#Anfangsparameter\n",
    "#U_B = I_A\n",
    "#U_2/10 = U_A\n",
    "#U_1 =\n",
    "#U_3 = \n",
    "\n",
    "FHKurve = pd.read_csv(\"FH-FrNm06.csv\", sep=';', decimal=',')\n",
    "\n",
    "U_1 = FHKurve['U_A1'].values*10  # []\n",
    "I_1 = FHKurve['U_B1'].values  # []\n",
    "U = U_1[35:-30]\n",
    "I = I_1[35:-30]\n",
    "peaks, _ = find_peaks(I)\n",
    "\n",
    "# maxima von U und I\n",
    "peak_U = U[peaks]\n",
    "peak_I = I[peaks]\n",
    "\n",
    "plt.figure(figsize=(7, 5))\n",
    "plt.plot(U_1, I_1, 'o', markersize=2)\n",
    "\n",
    "#Strichlinien und Peaks\n",
    "plt.plot(peak_U, peak_I, 'go', label=\"Lokale Maxima\", markersize=6, zorder=10)\n",
    "for u, i in zip(peak_U, peak_I):\n",
    "    plt.plot([u, u], [0, i], 'g--', linewidth=1, zorder=10)\n",
    "# U_1,U_2... Labels\n",
    "for i, u in enumerate(peak_U):\n",
    "    plt.text(u, -0.24, f\"$U_{{{i+1}}}$\", color='green', ha='center', va='top', fontsize=9.5)\n",
    "\n",
    "\n",
    "\n",
    "# Spannungs Differenzen zeichnen, horizontale linie und trennlinien\n",
    "linie = np.max(peak_I) * 1\n",
    "trenn = 0.2\n",
    "\n",
    "for i in range(len(peak_U) - 1):\n",
    "    x1, x2 = peak_U[i], peak_U[i+1]\n",
    "    \n",
    "   \n",
    "    plt.plot([x1, x2], [linie, linie], '-', linewidth=1.5, color='green')\n",
    "    \n",
    "   \n",
    "    plt.plot([x1, x1], [linie - trenn, linie + trenn], 'g-', linewidth=1)\n",
    "    plt.plot([x2, x2], [linie - trenn, linie + trenn], 'g-', linewidth=1)\n",
    "    \n",
    "    # ΔU label\n",
    "    mid_x = (x1 + x2) / 2\n",
    "    plt.text(mid_x, linie + 0.3, \n",
    "             rf\"$\\Delta U_{{{i+1}}}$\", \n",
    "             fontsize=10, ha='center', va='bottom', color='green')\n",
    "\n",
    "\n",
    "\n",
    "plt.xlabel(\"$U_B$ [V]\")\n",
    "plt.ylabel(\"$I_A$ [nA]\")\n",
    "plt.title(\"Franck-Hertz-Kurve\")\n",
    "plt.ylim(bottom=0)\n",
    "plt.xlim(left=0)\n",
    "#plt.legend()\n",
    "plt.grid()\n",
    "plt.tight_layout()\n",
    "plt.savefig(\"/mnt/f/Physik studium/LP2/PS9/Franck-Hertz-Kurve.pdf\")\n",
    "plt.show()\n",
    "\n",
    "\n",
    "# Peak Schwepunktes\n",
    "weighted_peak_Us = []\n",
    "\n",
    "window = 20  # Indizes um das Maximum\n",
    "\n",
    "for peak_idx in peaks:\n",
    "    start = max(peak_idx - window, 0)\n",
    "    end = min(peak_idx + window + 1, len(U))\n",
    "    \n",
    "    U_window = U[start:end]\n",
    "    I_window = I[start:end]\n",
    "    \n",
    "    weighted_mean_U = np.sum(U_window * I_window) / np.sum(I_window)\n",
    "    variance = np.sum(I_window * (U_window - weighted_mean_U)**2) / np.sum(I_window)\n",
    "    std_U = np.sqrt(variance)\n",
    "    \n",
    "    weighted_peak_Us.append(ufloat(weighted_mean_U, std_U))\n",
    "\n",
    "#U_i mit Unsicherheit\n",
    "for i, u_val in enumerate(weighted_peak_Us):\n",
    "    display(Math(rf\"U_{{{i+1}}} = {u_val:.3f}~\\mathrm{{V}}\"))\n",
    "print()\n",
    "\n",
    "#Delta U\n",
    "delta_Us = [u2 - u1 for u1, u2 in zip(weighted_peak_Us[:-1], weighted_peak_Us[1:])]\n",
    "\n",
    "for i, delta in enumerate(delta_Us):\n",
    "    display(Math(rf\"\\Delta U_{{{i+1}}} = {delta:.3f}~\\mathrm{{V}}\"))\n",
    "print()\n",
    "\n",
    "\n",
    "\n",
    "#Differenzen\n",
    "mean_delta_U = np.mean(unp.nominal_values(delta_Us))\n",
    "std_delta_U = np.std(unp.nominal_values(delta_Us), ddof=1)\n",
    "std_delta_U_mean = std_delta_U / np.sqrt(len(unp.nominal_values(delta_Us)))\n",
    "ΔU = ufloat(mean_delta_U, std_delta_U_mean)\n",
    "display(Math(rf\"\\langle \\Delta U \\rangle = {ΔU:.3f}~\\mathrm{{V}}\"))\n",
    "print()\n",
    "\n",
    "ΔE = ΔU*e\n",
    "\n",
    "\n",
    "\n",
    "\n",
    "display(Math(rf\"\\Delta E = {ΔE/e:.3f}~\\mathrm{{eV}}\"))"
   ]
  },
  {
   "cell_type": "code",
   "execution_count": 45,
   "id": "723c6293",
   "metadata": {},
   "outputs": [
    {
     "data": {
      "text/latex": [
       "$\\displaystyle  \\Delta U_1 = 18.200+/-7.071~\\mathrm{V}$"
      ],
      "text/plain": [
       "<IPython.core.display.Math object>"
      ]
     },
     "metadata": {},
     "output_type": "display_data"
    },
    {
     "data": {
      "text/latex": [
       "$\\displaystyle \\Delta U_2 = 18.200+/-7.071~\\mathrm{V}$"
      ],
      "text/plain": [
       "<IPython.core.display.Math object>"
      ]
     },
     "metadata": {},
     "output_type": "display_data"
    },
    {
     "data": {
      "text/latex": [
       "$\\displaystyle \\langle \\Delta U \\rangle = 18.200+/-3.536~\\mathrm{V}$"
      ],
      "text/plain": [
       "<IPython.core.display.Math object>"
      ]
     },
     "metadata": {},
     "output_type": "display_data"
    },
    {
     "data": {
      "text/latex": [
       "$\\displaystyle \\Delta E = 18.200+/-3.536~\\mathrm{eV}$"
      ],
      "text/plain": [
       "<IPython.core.display.Math object>"
      ]
     },
     "metadata": {},
     "output_type": "display_data"
    }
   ],
   "source": [
    "# Manuell leuchtzonen zählen\n",
    "\n",
    "U = [21.1,39.3,57.5]\n",
    "U_std = [0.5,0.5,0.5]\n",
    "I = [1,2,3,4]\n",
    "Anzahl = [1,2,3]\n",
    "\n",
    "# delta_U = np.diff(U)\n",
    "\n",
    "# for i, delta in enumerate(delta_U):\n",
    "#     display(Math(rf\"\\Delta U_{{{i+1}}} = {delta:.3f}~\\mathrm{{V}}\"))\n",
    "# print()\n",
    "# mean_delta_U = np.mean(delta_U)\n",
    "# std_delta_U = np.std(delta_U, ddof=1)\n",
    "# ΔU = ufloat(mean_delta_U, std_delta_U)\n",
    "# display(Math(rf\"\\langle \\Delta U \\rangle = {ΔU:.3f}~\\mathrm{{V}}\"))\n",
    "# print()\n",
    "\n",
    "U_1 = ufloat(21.1,5)\n",
    "U_2 = ufloat(39.3,5)\n",
    "U_3 = ufloat(57.5,5)\n",
    "U_12 = U_2-U_1\n",
    "U_23 = U_3-U_2\n",
    "\n",
    "ΔU = (U_12+U_23)/2\n",
    "\n",
    "display(Math(rf\" \\Delta U_1 = {U_12:.3f}~\\mathrm{{V}}\"))\n",
    "display(Math(rf\"\\Delta U_2 = {U_23:.3f}~\\mathrm{{V}}\"))\n",
    "\n",
    "display(Math(rf\"\\langle \\Delta U \\rangle = {ΔU:.3f}~\\mathrm{{V}}\"))\n",
    "\n",
    "ΔE = ΔU*e\n",
    "\n",
    "display(Math(rf\"\\Delta E = {ΔE/e:.3f}~\\mathrm{{eV}}\"))\n"
   ]
  },
  {
   "cell_type": "code",
   "execution_count": 56,
   "id": "dfb585a8",
   "metadata": {},
   "outputs": [
    {
     "data": {
      "text/latex": [
       "$\\displaystyle \\vartheta_1 = 9.400+/-0.071~\\mathrm{m}$"
      ],
      "text/plain": [
       "<IPython.core.display.Math object>"
      ]
     },
     "metadata": {},
     "output_type": "display_data"
    },
    {
     "data": {
      "text/latex": [
       "$\\displaystyle \\vartheta_2 = 10.333+/-0.071~\\mathrm{m}$"
      ],
      "text/plain": [
       "<IPython.core.display.Math object>"
      ]
     },
     "metadata": {},
     "output_type": "display_data"
    },
    {
     "data": {
      "text/latex": [
       "$\\displaystyle \\lambda_1 = (5.4442+/-0.0406)e-07~\\mathrm{m}$"
      ],
      "text/plain": [
       "<IPython.core.display.Math object>"
      ]
     },
     "metadata": {},
     "output_type": "display_data"
    },
    {
     "data": {
      "text/latex": [
       "$\\displaystyle \\lambda_2 = (5.9792+/-0.0405)e-07~\\mathrm{m}$"
      ],
      "text/plain": [
       "<IPython.core.display.Math object>"
      ]
     },
     "metadata": {},
     "output_type": "display_data"
    },
    {
     "name": "stdout",
     "output_type": "stream",
     "text": [
      "\n"
     ]
    },
    {
     "data": {
      "text/latex": [
       "$\\displaystyle E_1 = 2.278+/-0.017~\\mathrm{eV}$"
      ],
      "text/plain": [
       "<IPython.core.display.Math object>"
      ]
     },
     "metadata": {},
     "output_type": "display_data"
    },
    {
     "data": {
      "text/latex": [
       "$\\displaystyle E_2 = 2.074+/-0.014~\\mathrm{eV}$"
      ],
      "text/plain": [
       "<IPython.core.display.Math object>"
      ]
     },
     "metadata": {},
     "output_type": "display_data"
    },
    {
     "data": {
      "text/latex": [
       "$\\displaystyle \\Delta E = -0.20+/-0.02~\\mathrm{eV}$"
      ],
      "text/plain": [
       "<IPython.core.display.Math object>"
      ]
     },
     "metadata": {},
     "output_type": "display_data"
    }
   ],
   "source": [
    "#Bestimmung der Wellenlänge\n",
    "\n",
    "d = (1/3)*1e-5            #gitterkonstante\n",
    "\n",
    "\n",
    "#1 wellenlänge Blau\n",
    "θ_1 = ufloat(7+(9/30),0.1)          #links\n",
    "θ_2 = ufloat(360-(348+(15/30)),0.1)          #rechts\n",
    "\n",
    "θ = ((θ_2+θ_1)/2)*(np.pi/180)\n",
    "\n",
    "λ_1 = d*sin(θ)\n",
    "\n",
    "\n",
    "#2 wellenlänge Rot\n",
    "Θ_1 = ufloat(2+(15/30),0.1)          #links\n",
    "Θ_2 = ufloat(360-(341+(25/30)),0.1)          #rechts\n",
    "\n",
    "\n",
    "\n",
    "Θ = ((Θ_2+Θ_1)/2)*(np.pi/180)\n",
    "\n",
    "λ_2 = d*sin(Θ)\n",
    "\n",
    "f_1 = c/λ_1\n",
    "f_2 = c/λ_2\n",
    "\n",
    "E_1 = (h*f_1)/e #in eV\n",
    "E_2 = (h*f_2)/e #in eV\n",
    "\n",
    "E = E_2-E_1\n",
    "\n",
    "\n",
    "display(Math(rf\"\\vartheta_1 = {θ*(180/np.pi):.3f}~\\mathrm{{m}}\"))\n",
    "display(Math(rf\"\\vartheta_2 = {Θ*(180/np.pi):.3f}~\\mathrm{{m}}\"))\n",
    "display(Math(rf\"\\lambda_1 = {λ_1:.4e}~\\mathrm{{m}}\"))\n",
    "display(Math(rf\"\\lambda_2 = {λ_2:.4e}~\\mathrm{{m}}\"))\n",
    "print()\n",
    "display(Math(rf\"E_1 = {E_1:.3f}~\\mathrm{{eV}}\"))\n",
    "display(Math(rf\"E_2 = {E_2:.3f}~\\mathrm{{eV}}\"))\n",
    "display(Math(rf\"\\Delta E = {E:.2f}~\\mathrm{{eV}}\"))\n",
    "\n"
   ]
  },
  {
   "cell_type": "code",
   "execution_count": 89,
   "id": "430a8608",
   "metadata": {},
   "outputs": [
    {
     "data": {
      "image/png": "[encoded data removed]",
      "text/plain": [
       "<Figure size 640x480 with 1 Axes>"
      ]
     },
     "metadata": {},
     "output_type": "display_data"
    },
    {
     "data": {
      "text/latex": [
       "$\\displaystyle \\lambda = 2.24e-11~\\mathrm{m}$"
      ],
      "text/plain": [
       "<IPython.core.display.Math object>"
      ]
     },
     "metadata": {},
     "output_type": "display_data"
    },
    {
     "data": {
      "text/latex": [
       "$\\displaystyle d_1 = (1.977+/-0.170)e-10~\\mathrm{m}$"
      ],
      "text/plain": [
       "<IPython.core.display.Math object>"
      ]
     },
     "metadata": {},
     "output_type": "display_data"
    },
    {
     "data": {
      "text/latex": [
       "$\\displaystyle d_2 = (1.110+/-0.113)e-10~\\mathrm{m}$"
      ],
      "text/plain": [
       "<IPython.core.display.Math object>"
      ]
     },
     "metadata": {},
     "output_type": "display_data"
    }
   ],
   "source": [
    "#Elektronenbeugung\n",
    "\n",
    "L= ufloat(13.27,1)*1e-2\n",
    "U = np.array([3,3.3,3.6,3.9,4.2,4.5,4.7,5])*1e3\n",
    "\n",
    "D_1 = np.array([2.91,2.81,2.66,2.57,2.42,2.35,2.35,2.25])*1e-2\n",
    "D_2 = np.array([5.1,4.80,4.63,4.33,4.22,4.05,3.9,3.99])*1e-2\n",
    "Std_D = np.array([0.5,0.5,0.5,0.5,0.5,0.5,0.5,0.5])*1e-2\n",
    "\n",
    "\n",
    "λ = h/(np.sqrt(2*m_e*e*U))\n",
    "λ_1 = np.max(λ)\n",
    "\n",
    "k_1, y_1, r_1, _, std_k_1 = linregress(λ, D_1)\n",
    "d_1 = ufloat(k_1,std_k_1)/(2*L)\n",
    "\n",
    "k_2, y_2, r_2, _, std_k_2 = linregress(λ, D_2)\n",
    "d_2 = ufloat(k_2,std_k_2)/(2*L)\n",
    "\n",
    "plt.Figure\n",
    "plt.errorbar(λ, D_1, yerr=Std_D, capsize=4, fmt='o', label='$D_1$')\n",
    "plt.errorbar(λ, D_2, yerr=Std_D, capsize=4, fmt='o', label='$D_2$')\n",
    "plt.plot(λ, k_1*λ+y_1, label=f'Linearer Fit\\n $R^2$={r_1**2:.3f}')\n",
    "plt.plot(λ, k_2*λ+y_2, label=f'Linearer Fit\\n $R^2$={r_2**2:.3f}')\n",
    "plt.xlabel(\"$λ$ [m]\")\n",
    "plt.ylabel(\"$D$ [m]\")\n",
    "plt.title(\"Gitterabstand Graphit\")\n",
    "plt.legend()\n",
    "plt.grid()\n",
    "plt.tight_layout()\n",
    "plt.savefig(\"/mnt/f/Physik studium/LP2/PS9/Graphit_gitterabstand.pdf\")\n",
    "plt.show()\n",
    "\n",
    "display(Math(rf\"\\lambda = {λ_1:.2e}~\\mathrm{{m}}\"))\n",
    "display(Math(rf\"d_1 = {d_1**-1:.3e}~\\mathrm{{m}}\"))\n",
    "display(Math(rf\"d_2 = {d_2**-1:.3e}~\\mathrm{{m}}\"))\n"
   ]
  },
  {
   "cell_type": "code",
   "execution_count": null,
   "id": "77b25438",
   "metadata": {},
   "outputs": [],
   "source": [
    "Aus_Kennlinie_verstärker = pd.read_csv(\"Kennlinie_Zener_Diode.csv\", sep=',', decimal='.')\n",
    "U_1 = Aus_Kennlinie_verstärker['U_1'].values\n",
    "I_1 = Aus_Kennlinie_verstärker['I_1'].values\n",
    "\n",
    "U_2 = Aus_Kennlinie_verstärker['U_2'].values\n",
    "I_2 = Aus_Kennlinie_verstärker['I_2'].values\n",
    "\n",
    "U_3 = Aus_Kennlinie_verstärker['U_3'].values\n",
    "I_3 = Aus_Kennlinie_verstärker['I_3'].values\n",
    "\n",
    "U_4 = Aus_Kennlinie_verstärker['U_4'].values\n",
    "I_4 = Aus_Kennlinie_verstärker['I_4'].values    \n",
    "\n",
    "plt.figure(figsize=(7, 5))\n",
    "plt.plot(U_1,I_1, '-', markersize=3,zorder=10)\n",
    "plt.plot(U_2,I_2, '-', markersize=3,zorder=10)\n",
    "plt.plot(U_3,I_3, '-', markersize=3,zorder=10)\n",
    "plt.plot(U_4,I_4, '-', markersize=3,zorder=10)\n",
    "plt.xlabel(\"$U$ [V]\")\n",
    "plt.ylabel(\"$I$ [A]\")\n",
    "plt.title(\"Strom-Spannungs-Kennlinie Si-Diode\")\n",
    "#plt.legend()\n",
    "plt.grid()\n",
    "plt.tight_layout()\n",
    "plt.savefig(\"/mnt/f/Physik studium/LP2/PS10/Kennlinie_zener_diode.pdf\")\n",
    "plt.show()\n"
   ]
  }
 ],
 "metadata": {
  "kernelspec": {
   "display_name": "myenv",
   "language": "python",
   "name": "python3"
  },
  "language_info": {
   "codemirror_mode": {
    "name": "ipython",
    "version": 3
   },
   "file_extension": ".py",
   "mimetype": "text/x-python",
   "name": "python",
   "nbconvert_exporter": "python",
   "pygments_lexer": "ipython3",
   "version": "3.10.12"
  }
 },
 "nbformat": 4,
 "nbformat_minor": 5
}
