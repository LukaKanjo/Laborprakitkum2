{
 "cells": [
  {
   "cell_type": "code",
   "execution_count": null,
   "metadata": {},
   "outputs": [
    {
     "name": "stdout",
     "output_type": "stream",
     "text": [
      "\n",
      "Original Vector\n",
      "  ⎡ 1.000 ⎤\n",
      "  ⎢ 0.000 ⎥\n",
      "  ⎣ 1.000 ⎦\n"
     ]
    }
   ],
   "source": [
    "#Rotating Vetors\n",
    "import numpy as np\n",
    "import math\n",
    "\n",
    "vector = np.array(list(map(float, input(\"Enter vector components: \").split())))\n",
    "\n",
    "def print_vector(v, label=\"Vector\"):\n",
    "    print(f\"\\n{label}\")\n",
    "    print(\"  ⎡{:6.3f} ⎤\".format(v[0]))\n",
    "    print(\"  ⎢{:6.3f} ⎥\".format(v[1]))\n",
    "    print(\"  ⎣{:6.3f} ⎦\".format(v[2]))\n",
    "print_vector(vector, \"Original Vector\")\n",
    "\n"
   ]
  },
  {
   "cell_type": "code",
   "execution_count": null,
   "metadata": {},
   "outputs": [
    {
     "ename": "ValueError",
     "evalue": "shapes (3,3) and (1,) not aligned: 3 (dim 1) != 1 (dim 0)",
     "output_type": "error",
     "traceback": [
      "\u001b[0;31m---------------------------------------------------------------------------\u001b[0m",
      "\u001b[0;31mValueError\u001b[0m                                Traceback (most recent call last)",
      "Cell \u001b[0;32mIn[5], line 13\u001b[0m\n\u001b[1;32m     10\u001b[0m Ay \u001b[38;5;241m=\u001b[39m np\u001b[38;5;241m.\u001b[39marray([[math\u001b[38;5;241m.\u001b[39mcos(Y), \u001b[38;5;241m0\u001b[39m, math\u001b[38;5;241m.\u001b[39msin(Y)],[\u001b[38;5;241m0\u001b[39m, \u001b[38;5;241m1\u001b[39m, \u001b[38;5;241m0\u001b[39m],[\u001b[38;5;241m-\u001b[39mmath\u001b[38;5;241m.\u001b[39msin(Y), \u001b[38;5;241m0\u001b[39m, math\u001b[38;5;241m.\u001b[39mcos(Y)]])\n\u001b[1;32m     11\u001b[0m Az \u001b[38;5;241m=\u001b[39m np\u001b[38;5;241m.\u001b[39marray([[math\u001b[38;5;241m.\u001b[39mcos(Z), \u001b[38;5;241m-\u001b[39mmath\u001b[38;5;241m.\u001b[39msin(Z), \u001b[38;5;241m0\u001b[39m], [math\u001b[38;5;241m.\u001b[39msin(Z), math\u001b[38;5;241m.\u001b[39mcos(Z), \u001b[38;5;241m0\u001b[39m], [\u001b[38;5;241m0\u001b[39m, \u001b[38;5;241m0\u001b[39m, \u001b[38;5;241m1\u001b[39m]])\n\u001b[0;32m---> 13\u001b[0m Resultx \u001b[38;5;241m=\u001b[39m \u001b[43mnp\u001b[49m\u001b[38;5;241;43m.\u001b[39;49m\u001b[43mdot\u001b[49m\u001b[43m(\u001b[49m\u001b[43mAx\u001b[49m\u001b[43m,\u001b[49m\u001b[43m \u001b[49m\u001b[43mvector\u001b[49m\u001b[43m)\u001b[49m\n\u001b[1;32m     14\u001b[0m Resulty \u001b[38;5;241m=\u001b[39m np\u001b[38;5;241m.\u001b[39mdot(Ay, Resultx)  \n\u001b[1;32m     15\u001b[0m Resultz \u001b[38;5;241m=\u001b[39m np\u001b[38;5;241m.\u001b[39mdot(Az, Resulty) \n",
      "\u001b[0;31mValueError\u001b[0m: shapes (3,3) and (1,) not aligned: 3 (dim 1) != 1 (dim 0)"
     ]
    }
   ],
   "source": [
    "X = float(input(\"How much rotation in x? \\n\"))\n",
    "Y = float(input(\"How much rotation in y? \\n\"))\n",
    "Z = float(input(\"How much rotation in z? \\n\"))\n",
    "\n",
    "X = math.radians(X)\n",
    "Y = math.radians(Y)\n",
    "Z = math.radians(Z)\n",
    "\n",
    "Ax = np.array([[1, 0, 0],[0, math.cos(X), -math.sin(X)], [0, math.sin(X), math.cos(X)]])\n",
    "Ay = np.array([[math.cos(Y), 0, math.sin(Y)],[0, 1, 0],[-math.sin(Y), 0, math.cos(Y)]])\n",
    "Az = np.array([[math.cos(Z), -math.sin(Z), 0], [math.sin(Z), math.cos(Z), 0], [0, 0, 1]])\n",
    "\n",
    "Resultx = np.dot(Ax, vector)\n",
    "Resulty = np.dot(Ay, Resultx)  \n",
    "Resultz = np.dot(Az, Resulty) \n",
    "Result = np.round(Resultz, decimals=3)\n",
    "Result[Result == -0.0] = 0.0\n",
    "#print(\"Rotated Vector:\\n\", Result.flatten())\n",
    "\n",
    "def print_vector(v, label=\"Vector\"):\n",
    "    print(f\"\\n{label}\")\n",
    "    print(\"  ⎡{:6.3f} ⎤\".format(v[0]))\n",
    "    print(\"  ⎢{:6.3f} ⎥\".format(v[1]))\n",
    "    print(\"  ⎣{:6.3f} ⎦\".format(v[2]))\n",
    "\n",
    "\n",
    "print_vector(vector, \"Original Vector\")\n",
    "print_vector(Result, \"Rotated Vector\")\n"
   ]
  }
 ],
 "metadata": {
  "kernelspec": {
   "display_name": "myenv (3.10.12)",
   "language": "python",
   "name": "python3"
  },
  "language_info": {
   "codemirror_mode": {
    "name": "ipython",
    "version": 3
   },
   "file_extension": ".py",
   "mimetype": "text/x-python",
   "name": "python",
   "nbconvert_exporter": "python",
   "pygments_lexer": "ipython3",
   "version": "3.10.12"
  }
 },
 "nbformat": 4,
 "nbformat_minor": 2
}
